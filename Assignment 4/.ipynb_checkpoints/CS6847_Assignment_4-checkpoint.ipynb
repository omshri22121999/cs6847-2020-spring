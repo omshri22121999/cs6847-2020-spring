{
 "cells": [
  {
   "cell_type": "markdown",
   "metadata": {
    "colab_type": "text",
    "id": "IEXIREL9vKUa"
   },
   "source": [
    "__Note :__ Running _Downloading Dataset_ is required only if the notebook is run on __Google Colab__. If running on the same system, make sure that the dataset is present in the same folder as the notebook."
   ]
  },
  {
   "cell_type": "markdown",
   "metadata": {},
   "source": [
    "# Downloading Dataset"
   ]
  },
  {
   "cell_type": "markdown",
   "metadata": {},
   "source": [
    "Note : Upload the `kaggle.json` file to Google Colab before running the following code"
   ]
  },
  {
   "cell_type": "code",
   "execution_count": 0,
   "metadata": {
    "colab": {},
    "colab_type": "code",
    "id": "OWeuKPoTLYlH"
   },
   "outputs": [],
   "source": [
    "# Setting up kaggle env\n",
    "\n",
    "! mkdir ~/.kaggle\n",
    "! cp kaggle.json ~/.kaggle/\n",
    "! chmod 600 ~/.kaggle/kaggle.json"
   ]
  },
  {
   "cell_type": "code",
   "execution_count": 3,
   "metadata": {
    "colab": {
     "base_uri": "https://localhost:8080/",
     "height": 254
    },
    "colab_type": "code",
    "id": "J3YNjNyAMcnY",
    "outputId": "0af5b0af-306a-417c-cc36-04b8e156aa2e"
   },
   "outputs": [
    {
     "name": "stdout",
     "output_type": "stream",
     "text": [
      "Warning: Looks like you're using an outdated API Version, please consider updating (server 1.5.6 / client 1.5.4)\n",
      "Downloading train.csv.zip to /content\n",
      " 99% 1.54G/1.56G [00:17<00:00, 105MB/s] \n",
      "100% 1.56G/1.56G [00:17<00:00, 96.3MB/s]\n",
      "Downloading sample_submission.csv to /content\n",
      "  0% 0.00/335k [00:00<?, ?B/s]\n",
      "100% 335k/335k [00:00<00:00, 107MB/s]\n",
      "Downloading GCP-Coupons-Instructions.rtf to /content\n",
      "  0% 0.00/486 [00:00<?, ?B/s]\n",
      "100% 486/486 [00:00<00:00, 477kB/s]\n",
      "Downloading test.csv to /content\n",
      "  0% 0.00/960k [00:00<?, ?B/s]\n",
      "100% 960k/960k [00:00<00:00, 135MB/s]\n"
     ]
    }
   ],
   "source": [
    "# Downloading kaggle dataset\n",
    "\n",
    "! kaggle competitions download -c new-york-city-taxi-fare-prediction"
   ]
  },
  {
   "cell_type": "code",
   "execution_count": 4,
   "metadata": {
    "colab": {
     "base_uri": "https://localhost:8080/",
     "height": 54
    },
    "colab_type": "code",
    "id": "BsoUJ944NXd8",
    "outputId": "c2d8f8f1-ab06-4c6c-ca1d-0f395e16783b",
    "scrolled": true
   },
   "outputs": [
    {
     "name": "stdout",
     "output_type": "stream",
     "text": [
      "Archive:  train.csv.zip\n",
      "  inflating: train.csv               \n"
     ]
    }
   ],
   "source": [
    "# Unzipping the dataset\n",
    "\n",
    "! unzip train.csv.zip"
   ]
  },
  {
   "cell_type": "markdown",
   "metadata": {},
   "source": [
    "# Importing Libraries and Dataset"
   ]
  },
  {
   "cell_type": "code",
   "execution_count": 5,
   "metadata": {
    "colab": {
     "base_uri": "https://localhost:8080/",
     "height": 35
    },
    "colab_type": "code",
    "id": "NeWVBhf1VxlH",
    "outputId": "96ef624a-ac6e-43a6-8aad-a17588259b39"
   },
   "outputs": [
    {
     "name": "stdout",
     "output_type": "stream",
     "text": [
      "TensorFlow 1.x selected.\n"
     ]
    }
   ],
   "source": [
    "# Specify Tensorflow version\n",
    "\n",
    "%tensorflow_version 1.x"
   ]
  },
  {
   "cell_type": "code",
   "execution_count": 0,
   "metadata": {
    "colab": {},
    "colab_type": "code",
    "id": "veUZgSvtOXzX"
   },
   "outputs": [],
   "source": [
    "# Importing libraries\n",
    "\n",
    "import pandas as pd\n",
    "import tensorflow as tf\n",
    "import time\n",
    "import random\n",
    "import datetime\n",
    "import gc\n",
    "import numpy as np\n",
    "import os\n",
    "import matplotlib.pyplot as plt\n",
    "from tensorflow.python.framework import ops\n",
    "from sklearn.model_selection import train_test_split\n",
    "from sklearn.preprocessing import MinMaxScaler\n",
    "import logging\n",
    "logging.getLogger('tensorflow').disabled = True\n",
    "\n",
    "%matplotlib inline\n",
    "random.seed(1)"
   ]
  },
  {
   "cell_type": "code",
   "execution_count": 8,
   "metadata": {
    "colab": {
     "base_uri": "https://localhost:8080/",
     "height": 35
    },
    "colab_type": "code",
    "id": "3kXzCfaRAOol",
    "outputId": "30485d3e-22ba-4f6b-9b8c-6a1a4a36187a"
   },
   "outputs": [
    {
     "name": "stdout",
     "output_type": "stream",
     "text": [
      "1.15.2\n"
     ]
    }
   ],
   "source": [
    "print(tf.__version__)"
   ]
  },
  {
   "cell_type": "code",
   "execution_count": 0,
   "metadata": {
    "colab": {},
    "colab_type": "code",
    "id": "yux5YIWLPRJ1"
   },
   "outputs": [],
   "source": [
    "# Importing part of the training set (to reduce RAM usage and prevent Colab session from crashing).\n",
    "\n",
    "p = 0.002\n",
    "train = pd.read_csv(\n",
    "         'train.csv',\n",
    "         header=0, \n",
    "         skiprows=lambda i: i>0 and random.random() > p\n",
    ")"
   ]
  },
  {
   "cell_type": "code",
   "execution_count": 0,
   "metadata": {
    "colab": {
     "base_uri": "https://localhost:8080/",
     "height": 198
    },
    "colab_type": "code",
    "id": "gF1flzxOQHTh",
    "outputId": "3d7e185a-b049-49c7-efc5-9a75f194a242"
   },
   "outputs": [
    {
     "data": {
      "text/html": [
       "<div>\n",
       "<style scoped>\n",
       "    .dataframe tbody tr th:only-of-type {\n",
       "        vertical-align: middle;\n",
       "    }\n",
       "\n",
       "    .dataframe tbody tr th {\n",
       "        vertical-align: top;\n",
       "    }\n",
       "\n",
       "    .dataframe thead th {\n",
       "        text-align: right;\n",
       "    }\n",
       "</style>\n",
       "<table border=\"1\" class=\"dataframe\">\n",
       "  <thead>\n",
       "    <tr style=\"text-align: right;\">\n",
       "      <th></th>\n",
       "      <th>key</th>\n",
       "      <th>fare_amount</th>\n",
       "      <th>pickup_datetime</th>\n",
       "      <th>pickup_longitude</th>\n",
       "      <th>pickup_latitude</th>\n",
       "      <th>dropoff_longitude</th>\n",
       "      <th>dropoff_latitude</th>\n",
       "      <th>passenger_count</th>\n",
       "    </tr>\n",
       "  </thead>\n",
       "  <tbody>\n",
       "    <tr>\n",
       "      <th>0</th>\n",
       "      <td>2010-01-19 01:10:00.00000012</td>\n",
       "      <td>2.5</td>\n",
       "      <td>2010-01-19 01:10:00 UTC</td>\n",
       "      <td>-73.998720</td>\n",
       "      <td>40.624708</td>\n",
       "      <td>-73.998720</td>\n",
       "      <td>40.624708</td>\n",
       "      <td>1</td>\n",
       "    </tr>\n",
       "    <tr>\n",
       "      <th>1</th>\n",
       "      <td>2012-02-21 01:13:00.00000049</td>\n",
       "      <td>10.5</td>\n",
       "      <td>2012-02-21 01:13:00 UTC</td>\n",
       "      <td>-73.965018</td>\n",
       "      <td>40.759892</td>\n",
       "      <td>-74.009370</td>\n",
       "      <td>40.738187</td>\n",
       "      <td>2</td>\n",
       "    </tr>\n",
       "    <tr>\n",
       "      <th>2</th>\n",
       "      <td>2013-01-24 10:15:00.0000002</td>\n",
       "      <td>4.0</td>\n",
       "      <td>2013-01-24 10:15:00 UTC</td>\n",
       "      <td>-73.976085</td>\n",
       "      <td>40.755877</td>\n",
       "      <td>-73.979065</td>\n",
       "      <td>40.750322</td>\n",
       "      <td>6</td>\n",
       "    </tr>\n",
       "    <tr>\n",
       "      <th>3</th>\n",
       "      <td>2009-04-07 12:28:00.00000013</td>\n",
       "      <td>6.1</td>\n",
       "      <td>2009-04-07 12:28:00 UTC</td>\n",
       "      <td>-73.988815</td>\n",
       "      <td>40.749252</td>\n",
       "      <td>-74.001947</td>\n",
       "      <td>40.740603</td>\n",
       "      <td>5</td>\n",
       "    </tr>\n",
       "    <tr>\n",
       "      <th>4</th>\n",
       "      <td>2013-05-18 23:16:00.000000274</td>\n",
       "      <td>21.0</td>\n",
       "      <td>2013-05-18 23:16:00 UTC</td>\n",
       "      <td>-73.994102</td>\n",
       "      <td>40.720047</td>\n",
       "      <td>-73.943105</td>\n",
       "      <td>40.705872</td>\n",
       "      <td>4</td>\n",
       "    </tr>\n",
       "  </tbody>\n",
       "</table>\n",
       "</div>"
      ],
      "text/plain": [
       "                             key  ...  passenger_count\n",
       "0   2010-01-19 01:10:00.00000012  ...                1\n",
       "1   2012-02-21 01:13:00.00000049  ...                2\n",
       "2    2013-01-24 10:15:00.0000002  ...                6\n",
       "3   2009-04-07 12:28:00.00000013  ...                5\n",
       "4  2013-05-18 23:16:00.000000274  ...                4\n",
       "\n",
       "[5 rows x 8 columns]"
      ]
     },
     "execution_count": 31,
     "metadata": {
      "tags": []
     },
     "output_type": "execute_result"
    }
   ],
   "source": [
    "train.head()"
   ]
  },
  {
   "cell_type": "code",
   "execution_count": 0,
   "metadata": {
    "colab": {
     "base_uri": "https://localhost:8080/",
     "height": 35
    },
    "colab_type": "code",
    "id": "XYEGhS8QUC6r",
    "outputId": "9a3bdfdc-f729-4f9d-c6be-3d44aa6eeb5e"
   },
   "outputs": [
    {
     "name": "stdout",
     "output_type": "stream",
     "text": [
      "(110569, 8)\n"
     ]
    }
   ],
   "source": [
    "print(train.shape)"
   ]
  },
  {
   "cell_type": "markdown",
   "metadata": {
    "colab_type": "text",
    "id": "FT2SGqqBvW3d"
   },
   "source": [
    "# Data Preprocessing"
   ]
  },
  {
   "cell_type": "code",
   "execution_count": 0,
   "metadata": {
    "colab": {},
    "colab_type": "code",
    "id": "CI9m0lwmUEPF"
   },
   "outputs": [],
   "source": [
    "# Removing key column\n",
    "\n",
    "train = train.drop(columns = ['key'])"
   ]
  },
  {
   "cell_type": "code",
   "execution_count": 0,
   "metadata": {
    "colab": {},
    "colab_type": "code",
    "id": "4iUX7P0ZqYoQ"
   },
   "outputs": [],
   "source": [
    "# Removing abnormal data\n",
    "\n",
    "t = (train['pickup_longitude'].astype(int)>-72) | (train['pickup_longitude'].astype(int)<-81) | (train['pickup_latitude'].astype(int)<38) | (train['pickup_latitude'].astype(int)>50) | (train['dropoff_longitude'].astype(int)>-72) | (train['dropoff_longitude'].astype(int)<-81) | (train['dropoff_latitude'].astype(int)<38)|(train['dropoff_latitude'].astype(int)>41) | (train['fare_amount']<=0) | (train['passenger_count']<1)\n",
    "train = train.drop(train[t].index)"
   ]
  },
  {
   "cell_type": "code",
   "execution_count": 0,
   "metadata": {
    "colab": {
     "base_uri": "https://localhost:8080/",
     "height": 35
    },
    "colab_type": "code",
    "id": "sBQhIJT03_PT",
    "outputId": "23078e98-b881-47f7-cdc5-4e92071f8c6f"
   },
   "outputs": [
    {
     "data": {
      "text/plain": [
       "(107935, 7)"
      ]
     },
     "execution_count": 35,
     "metadata": {
      "tags": []
     },
     "output_type": "execute_result"
    }
   ],
   "source": [
    "train.shape"
   ]
  },
  {
   "cell_type": "code",
   "execution_count": 0,
   "metadata": {
    "colab": {},
    "colab_type": "code",
    "id": "Zr4M5GnN8IUr"
   },
   "outputs": [],
   "source": [
    "# Converting pickup to datetime format\n",
    "\n",
    "train['pickup_datetime'] = pd.to_datetime(train['pickup_datetime'],format='%Y-%m-%d %H:%M:%S UTC')"
   ]
  },
  {
   "cell_type": "code",
   "execution_count": 0,
   "metadata": {
    "colab": {},
    "colab_type": "code",
    "id": "KbUxYDFXU0IZ"
   },
   "outputs": [],
   "source": [
    "# Converting the day of the week, month, year, hour of the day, and number of passengers into one-hot features\n",
    "\n",
    "train = pd.concat([train,pd.get_dummies(train['pickup_datetime'].apply(lambda x:x.weekday()), prefix='day')],axis=1)\n",
    "train = pd.concat([train,pd.get_dummies(train['pickup_datetime'].apply(lambda x:x.month), prefix='month')],axis=1)\n",
    "train = pd.concat([train,pd.get_dummies(train['pickup_datetime'].apply(lambda x:x.year), prefix='year')],axis=1)\n",
    "train = pd.concat([train,pd.get_dummies(train['pickup_datetime'].apply(lambda x:x.hour), prefix='hour')],axis=1)\n",
    "train = pd.concat([train,pd.get_dummies(train['passenger_count'],prefix='passengers')],axis=1)"
   ]
  },
  {
   "cell_type": "code",
   "execution_count": 0,
   "metadata": {
    "colab": {},
    "colab_type": "code",
    "id": "s50Nxd1ahrni"
   },
   "outputs": [],
   "source": [
    "# Removing the pickup_datetime and passenger_count features\n",
    "\n",
    "train_new = train.drop(columns = ['pickup_datetime','passenger_count'])"
   ]
  },
  {
   "cell_type": "code",
   "execution_count": 0,
   "metadata": {
    "colab": {},
    "colab_type": "code",
    "id": "jdvlhpVFcxWR"
   },
   "outputs": [],
   "source": [
    "# Bringing the longitudes and latitudes closer to origin for better training\n",
    "\n",
    "train_new['pickup_longitude'] = train_new['pickup_longitude'] - (-74)\n",
    "train_new['dropoff_longitude'] = train_new['dropoff_longitude'] - (-74)\n",
    "train_new['pickup_latitude'] = train_new['pickup_latitude'] - (40)\n",
    "train_new['dropoff_latitude'] = train_new['dropoff_latitude'] - (40)"
   ]
  },
  {
   "cell_type": "code",
   "execution_count": 0,
   "metadata": {
    "colab": {
     "base_uri": "https://localhost:8080/",
     "height": 218
    },
    "colab_type": "code",
    "id": "JXtV4Xb_Aano",
    "outputId": "04b6bff2-9798-457f-91dd-644d4878875b"
   },
   "outputs": [
    {
     "data": {
      "text/html": [
       "<div>\n",
       "<style scoped>\n",
       "    .dataframe tbody tr th:only-of-type {\n",
       "        vertical-align: middle;\n",
       "    }\n",
       "\n",
       "    .dataframe tbody tr th {\n",
       "        vertical-align: top;\n",
       "    }\n",
       "\n",
       "    .dataframe thead th {\n",
       "        text-align: right;\n",
       "    }\n",
       "</style>\n",
       "<table border=\"1\" class=\"dataframe\">\n",
       "  <thead>\n",
       "    <tr style=\"text-align: right;\">\n",
       "      <th></th>\n",
       "      <th>fare_amount</th>\n",
       "      <th>pickup_longitude</th>\n",
       "      <th>pickup_latitude</th>\n",
       "      <th>dropoff_longitude</th>\n",
       "      <th>dropoff_latitude</th>\n",
       "      <th>day_0</th>\n",
       "      <th>day_1</th>\n",
       "      <th>day_2</th>\n",
       "      <th>day_3</th>\n",
       "      <th>day_4</th>\n",
       "      <th>day_5</th>\n",
       "      <th>day_6</th>\n",
       "      <th>month_1</th>\n",
       "      <th>month_2</th>\n",
       "      <th>month_3</th>\n",
       "      <th>month_4</th>\n",
       "      <th>month_5</th>\n",
       "      <th>month_6</th>\n",
       "      <th>month_7</th>\n",
       "      <th>month_8</th>\n",
       "      <th>month_9</th>\n",
       "      <th>month_10</th>\n",
       "      <th>month_11</th>\n",
       "      <th>month_12</th>\n",
       "      <th>year_2009</th>\n",
       "      <th>year_2010</th>\n",
       "      <th>year_2011</th>\n",
       "      <th>year_2012</th>\n",
       "      <th>year_2013</th>\n",
       "      <th>year_2014</th>\n",
       "      <th>year_2015</th>\n",
       "      <th>hour_0</th>\n",
       "      <th>hour_1</th>\n",
       "      <th>hour_2</th>\n",
       "      <th>hour_3</th>\n",
       "      <th>hour_4</th>\n",
       "      <th>hour_5</th>\n",
       "      <th>hour_6</th>\n",
       "      <th>hour_7</th>\n",
       "      <th>hour_8</th>\n",
       "      <th>hour_9</th>\n",
       "      <th>hour_10</th>\n",
       "      <th>hour_11</th>\n",
       "      <th>hour_12</th>\n",
       "      <th>hour_13</th>\n",
       "      <th>hour_14</th>\n",
       "      <th>hour_15</th>\n",
       "      <th>hour_16</th>\n",
       "      <th>hour_17</th>\n",
       "      <th>hour_18</th>\n",
       "      <th>hour_19</th>\n",
       "      <th>hour_20</th>\n",
       "      <th>hour_21</th>\n",
       "      <th>hour_22</th>\n",
       "      <th>hour_23</th>\n",
       "      <th>passengers_1</th>\n",
       "      <th>passengers_2</th>\n",
       "      <th>passengers_3</th>\n",
       "      <th>passengers_4</th>\n",
       "      <th>passengers_5</th>\n",
       "      <th>passengers_6</th>\n",
       "    </tr>\n",
       "  </thead>\n",
       "  <tbody>\n",
       "    <tr>\n",
       "      <th>0</th>\n",
       "      <td>2.5</td>\n",
       "      <td>0.001280</td>\n",
       "      <td>0.624708</td>\n",
       "      <td>0.001280</td>\n",
       "      <td>0.624708</td>\n",
       "      <td>0</td>\n",
       "      <td>1</td>\n",
       "      <td>0</td>\n",
       "      <td>0</td>\n",
       "      <td>0</td>\n",
       "      <td>0</td>\n",
       "      <td>0</td>\n",
       "      <td>1</td>\n",
       "      <td>0</td>\n",
       "      <td>0</td>\n",
       "      <td>0</td>\n",
       "      <td>0</td>\n",
       "      <td>0</td>\n",
       "      <td>0</td>\n",
       "      <td>0</td>\n",
       "      <td>0</td>\n",
       "      <td>0</td>\n",
       "      <td>0</td>\n",
       "      <td>0</td>\n",
       "      <td>0</td>\n",
       "      <td>1</td>\n",
       "      <td>0</td>\n",
       "      <td>0</td>\n",
       "      <td>0</td>\n",
       "      <td>0</td>\n",
       "      <td>0</td>\n",
       "      <td>0</td>\n",
       "      <td>1</td>\n",
       "      <td>0</td>\n",
       "      <td>0</td>\n",
       "      <td>0</td>\n",
       "      <td>0</td>\n",
       "      <td>0</td>\n",
       "      <td>0</td>\n",
       "      <td>0</td>\n",
       "      <td>0</td>\n",
       "      <td>0</td>\n",
       "      <td>0</td>\n",
       "      <td>0</td>\n",
       "      <td>0</td>\n",
       "      <td>0</td>\n",
       "      <td>0</td>\n",
       "      <td>0</td>\n",
       "      <td>0</td>\n",
       "      <td>0</td>\n",
       "      <td>0</td>\n",
       "      <td>0</td>\n",
       "      <td>0</td>\n",
       "      <td>0</td>\n",
       "      <td>0</td>\n",
       "      <td>1</td>\n",
       "      <td>0</td>\n",
       "      <td>0</td>\n",
       "      <td>0</td>\n",
       "      <td>0</td>\n",
       "      <td>0</td>\n",
       "    </tr>\n",
       "    <tr>\n",
       "      <th>1</th>\n",
       "      <td>10.5</td>\n",
       "      <td>0.034982</td>\n",
       "      <td>0.759892</td>\n",
       "      <td>-0.009370</td>\n",
       "      <td>0.738187</td>\n",
       "      <td>0</td>\n",
       "      <td>1</td>\n",
       "      <td>0</td>\n",
       "      <td>0</td>\n",
       "      <td>0</td>\n",
       "      <td>0</td>\n",
       "      <td>0</td>\n",
       "      <td>0</td>\n",
       "      <td>1</td>\n",
       "      <td>0</td>\n",
       "      <td>0</td>\n",
       "      <td>0</td>\n",
       "      <td>0</td>\n",
       "      <td>0</td>\n",
       "      <td>0</td>\n",
       "      <td>0</td>\n",
       "      <td>0</td>\n",
       "      <td>0</td>\n",
       "      <td>0</td>\n",
       "      <td>0</td>\n",
       "      <td>0</td>\n",
       "      <td>0</td>\n",
       "      <td>1</td>\n",
       "      <td>0</td>\n",
       "      <td>0</td>\n",
       "      <td>0</td>\n",
       "      <td>0</td>\n",
       "      <td>1</td>\n",
       "      <td>0</td>\n",
       "      <td>0</td>\n",
       "      <td>0</td>\n",
       "      <td>0</td>\n",
       "      <td>0</td>\n",
       "      <td>0</td>\n",
       "      <td>0</td>\n",
       "      <td>0</td>\n",
       "      <td>0</td>\n",
       "      <td>0</td>\n",
       "      <td>0</td>\n",
       "      <td>0</td>\n",
       "      <td>0</td>\n",
       "      <td>0</td>\n",
       "      <td>0</td>\n",
       "      <td>0</td>\n",
       "      <td>0</td>\n",
       "      <td>0</td>\n",
       "      <td>0</td>\n",
       "      <td>0</td>\n",
       "      <td>0</td>\n",
       "      <td>0</td>\n",
       "      <td>0</td>\n",
       "      <td>1</td>\n",
       "      <td>0</td>\n",
       "      <td>0</td>\n",
       "      <td>0</td>\n",
       "      <td>0</td>\n",
       "    </tr>\n",
       "    <tr>\n",
       "      <th>2</th>\n",
       "      <td>4.0</td>\n",
       "      <td>0.023915</td>\n",
       "      <td>0.755877</td>\n",
       "      <td>0.020935</td>\n",
       "      <td>0.750322</td>\n",
       "      <td>0</td>\n",
       "      <td>0</td>\n",
       "      <td>0</td>\n",
       "      <td>1</td>\n",
       "      <td>0</td>\n",
       "      <td>0</td>\n",
       "      <td>0</td>\n",
       "      <td>1</td>\n",
       "      <td>0</td>\n",
       "      <td>0</td>\n",
       "      <td>0</td>\n",
       "      <td>0</td>\n",
       "      <td>0</td>\n",
       "      <td>0</td>\n",
       "      <td>0</td>\n",
       "      <td>0</td>\n",
       "      <td>0</td>\n",
       "      <td>0</td>\n",
       "      <td>0</td>\n",
       "      <td>0</td>\n",
       "      <td>0</td>\n",
       "      <td>0</td>\n",
       "      <td>0</td>\n",
       "      <td>1</td>\n",
       "      <td>0</td>\n",
       "      <td>0</td>\n",
       "      <td>0</td>\n",
       "      <td>0</td>\n",
       "      <td>0</td>\n",
       "      <td>0</td>\n",
       "      <td>0</td>\n",
       "      <td>0</td>\n",
       "      <td>0</td>\n",
       "      <td>0</td>\n",
       "      <td>0</td>\n",
       "      <td>0</td>\n",
       "      <td>1</td>\n",
       "      <td>0</td>\n",
       "      <td>0</td>\n",
       "      <td>0</td>\n",
       "      <td>0</td>\n",
       "      <td>0</td>\n",
       "      <td>0</td>\n",
       "      <td>0</td>\n",
       "      <td>0</td>\n",
       "      <td>0</td>\n",
       "      <td>0</td>\n",
       "      <td>0</td>\n",
       "      <td>0</td>\n",
       "      <td>0</td>\n",
       "      <td>0</td>\n",
       "      <td>0</td>\n",
       "      <td>0</td>\n",
       "      <td>0</td>\n",
       "      <td>0</td>\n",
       "      <td>1</td>\n",
       "    </tr>\n",
       "    <tr>\n",
       "      <th>3</th>\n",
       "      <td>6.1</td>\n",
       "      <td>0.011185</td>\n",
       "      <td>0.749252</td>\n",
       "      <td>-0.001947</td>\n",
       "      <td>0.740603</td>\n",
       "      <td>0</td>\n",
       "      <td>1</td>\n",
       "      <td>0</td>\n",
       "      <td>0</td>\n",
       "      <td>0</td>\n",
       "      <td>0</td>\n",
       "      <td>0</td>\n",
       "      <td>0</td>\n",
       "      <td>0</td>\n",
       "      <td>0</td>\n",
       "      <td>1</td>\n",
       "      <td>0</td>\n",
       "      <td>0</td>\n",
       "      <td>0</td>\n",
       "      <td>0</td>\n",
       "      <td>0</td>\n",
       "      <td>0</td>\n",
       "      <td>0</td>\n",
       "      <td>0</td>\n",
       "      <td>1</td>\n",
       "      <td>0</td>\n",
       "      <td>0</td>\n",
       "      <td>0</td>\n",
       "      <td>0</td>\n",
       "      <td>0</td>\n",
       "      <td>0</td>\n",
       "      <td>0</td>\n",
       "      <td>0</td>\n",
       "      <td>0</td>\n",
       "      <td>0</td>\n",
       "      <td>0</td>\n",
       "      <td>0</td>\n",
       "      <td>0</td>\n",
       "      <td>0</td>\n",
       "      <td>0</td>\n",
       "      <td>0</td>\n",
       "      <td>0</td>\n",
       "      <td>0</td>\n",
       "      <td>1</td>\n",
       "      <td>0</td>\n",
       "      <td>0</td>\n",
       "      <td>0</td>\n",
       "      <td>0</td>\n",
       "      <td>0</td>\n",
       "      <td>0</td>\n",
       "      <td>0</td>\n",
       "      <td>0</td>\n",
       "      <td>0</td>\n",
       "      <td>0</td>\n",
       "      <td>0</td>\n",
       "      <td>0</td>\n",
       "      <td>0</td>\n",
       "      <td>0</td>\n",
       "      <td>0</td>\n",
       "      <td>1</td>\n",
       "      <td>0</td>\n",
       "    </tr>\n",
       "    <tr>\n",
       "      <th>4</th>\n",
       "      <td>21.0</td>\n",
       "      <td>0.005898</td>\n",
       "      <td>0.720047</td>\n",
       "      <td>0.056895</td>\n",
       "      <td>0.705872</td>\n",
       "      <td>0</td>\n",
       "      <td>0</td>\n",
       "      <td>0</td>\n",
       "      <td>0</td>\n",
       "      <td>0</td>\n",
       "      <td>1</td>\n",
       "      <td>0</td>\n",
       "      <td>0</td>\n",
       "      <td>0</td>\n",
       "      <td>0</td>\n",
       "      <td>0</td>\n",
       "      <td>1</td>\n",
       "      <td>0</td>\n",
       "      <td>0</td>\n",
       "      <td>0</td>\n",
       "      <td>0</td>\n",
       "      <td>0</td>\n",
       "      <td>0</td>\n",
       "      <td>0</td>\n",
       "      <td>0</td>\n",
       "      <td>0</td>\n",
       "      <td>0</td>\n",
       "      <td>0</td>\n",
       "      <td>1</td>\n",
       "      <td>0</td>\n",
       "      <td>0</td>\n",
       "      <td>0</td>\n",
       "      <td>0</td>\n",
       "      <td>0</td>\n",
       "      <td>0</td>\n",
       "      <td>0</td>\n",
       "      <td>0</td>\n",
       "      <td>0</td>\n",
       "      <td>0</td>\n",
       "      <td>0</td>\n",
       "      <td>0</td>\n",
       "      <td>0</td>\n",
       "      <td>0</td>\n",
       "      <td>0</td>\n",
       "      <td>0</td>\n",
       "      <td>0</td>\n",
       "      <td>0</td>\n",
       "      <td>0</td>\n",
       "      <td>0</td>\n",
       "      <td>0</td>\n",
       "      <td>0</td>\n",
       "      <td>0</td>\n",
       "      <td>0</td>\n",
       "      <td>0</td>\n",
       "      <td>1</td>\n",
       "      <td>0</td>\n",
       "      <td>0</td>\n",
       "      <td>0</td>\n",
       "      <td>1</td>\n",
       "      <td>0</td>\n",
       "      <td>0</td>\n",
       "    </tr>\n",
       "  </tbody>\n",
       "</table>\n",
       "</div>"
      ],
      "text/plain": [
       "   fare_amount  pickup_longitude  ...  passengers_5  passengers_6\n",
       "0          2.5          0.001280  ...             0             0\n",
       "1         10.5          0.034982  ...             0             0\n",
       "2          4.0          0.023915  ...             0             1\n",
       "3          6.1          0.011185  ...             1             0\n",
       "4         21.0          0.005898  ...             0             0\n",
       "\n",
       "[5 rows x 61 columns]"
      ]
     },
     "execution_count": 40,
     "metadata": {
      "tags": []
     },
     "output_type": "execute_result"
    }
   ],
   "source": [
    "train_new.head()"
   ]
  },
  {
   "cell_type": "code",
   "execution_count": 0,
   "metadata": {
    "colab": {},
    "colab_type": "code",
    "id": "5KshP-L6U8lO"
   },
   "outputs": [],
   "source": [
    "# Creating the train-test split\n",
    "\n",
    "train_changed_X = np.float32(train_new.drop(columns = ['fare_amount']).values)\n",
    "train_changed_Y = np.float32(train_new['fare_amount'].values)\n",
    "train_X,test_X,train_Y,test_Y = train_test_split(train_changed_X,train_changed_Y,test_size = 0.2,random_state=0)"
   ]
  },
  {
   "cell_type": "code",
   "execution_count": 0,
   "metadata": {
    "colab": {
     "base_uri": "https://localhost:8080/",
     "height": 35
    },
    "colab_type": "code",
    "id": "SVOPdFIJ6fKs",
    "outputId": "57d816de-76f2-4cc3-e6fb-07fab476f57f"
   },
   "outputs": [
    {
     "data": {
      "text/plain": [
       "(86348, 60)"
      ]
     },
     "execution_count": 47,
     "metadata": {
      "tags": []
     },
     "output_type": "execute_result"
    }
   ],
   "source": [
    "train_X.shape"
   ]
  },
  {
   "cell_type": "code",
   "execution_count": 0,
   "metadata": {
    "colab": {
     "base_uri": "https://localhost:8080/",
     "height": 35
    },
    "colab_type": "code",
    "id": "NMAbwVdy6jaO",
    "outputId": "4622fd39-7ede-4cf5-b4e3-907fc2e672a8"
   },
   "outputs": [
    {
     "data": {
      "text/plain": [
       "(21587, 60)"
      ]
     },
     "execution_count": 48,
     "metadata": {
      "tags": []
     },
     "output_type": "execute_result"
    }
   ],
   "source": [
    "test_X.shape"
   ]
  },
  {
   "cell_type": "code",
   "execution_count": 0,
   "metadata": {
    "colab": {
     "base_uri": "https://localhost:8080/",
     "height": 35
    },
    "colab_type": "code",
    "id": "UF7pAb4UjWX2",
    "outputId": "32d534ff-a592-43cd-f0c3-abb633c2b0ad"
   },
   "outputs": [
    {
     "data": {
      "text/plain": [
       "11"
      ]
     },
     "execution_count": 42,
     "metadata": {
      "tags": []
     },
     "output_type": "execute_result"
    }
   ],
   "source": [
    "# Clear garbage data collected\n",
    "\n",
    "gc.collect()"
   ]
  },
  {
   "cell_type": "markdown",
   "metadata": {
    "colab_type": "text",
    "id": "HPkVlWkdviyq"
   },
   "source": [
    "# Creating Neural Network"
   ]
  },
  {
   "cell_type": "code",
   "execution_count": 0,
   "metadata": {
    "colab": {},
    "colab_type": "code",
    "id": "_qPTgbZ63nSF"
   },
   "outputs": [],
   "source": [
    "'''\n",
    "Function to define the input and output variables for forward propagation\n",
    "\n",
    "Input: \n",
    "  - n_x (int): Size of input \n",
    "  - n_y (int): Size of output\n",
    "Output: \n",
    "  - X (Tensor): Placeholder for X (input) \n",
    "  - Y (Tensor): Placeholder for Y (output) \n",
    "'''\n",
    "\n",
    "def create_placeholders(n_x, n_y):\n",
    "    X = tf.placeholder(tf.float32, name=\"X\")\n",
    "    Y = tf.placeholder(tf.float32, name=\"Y\")    \n",
    "    return X, Y\n",
    "\n",
    "'''\n",
    "Function to initialize the parameters W and b for neural network\n",
    "\n",
    "Input:\n",
    "  - n_x (int): Size of input\n",
    "  - hidden_layer (list): List of sizes of each hidden layer\n",
    "Output:\n",
    "  - parameters (dict): Dictionary containing all the parameters\n",
    "'''\n",
    "\n",
    "def initialize_parameters(n_x,hidden_layer):\n",
    "    \n",
    "    tf.set_random_seed(1)\n",
    "    hidden_size = len(hidden_layer)   \n",
    "    parameters = {}\n",
    "    parameters['W0'] = tf.get_variable(\"W0\", [hidden_layer[0], n_x], initializer = tf.contrib.layers.xavier_initializer(seed=1))\n",
    "    parameters['b0'] = tf.get_variable(\"b0\", [hidden_layer[0], 1], initializer = tf.zeros_initializer())\n",
    "    for i in range(1,hidden_size):\n",
    "        parameters[\"W\"+str(i)] = tf.get_variable(\"W\"+str(i), [hidden_layer[i], hidden_layer[i-1]], initializer = tf.contrib.layers.xavier_initializer(seed=1))\n",
    "        parameters[\"b\"+str(i)] = tf.get_variable(\"b\"+str(i), [hidden_layer[i], 1], initializer = tf.zeros_initializer())\n",
    "    \n",
    "    parameters['W'+str(hidden_size)] = tf.get_variable('W'+str(hidden_size), [1, hidden_layer[-1]], initializer = tf.contrib.layers.xavier_initializer(seed=1))\n",
    "    parameters['b'+str(hidden_size)] = tf.get_variable('b'+str(hidden_size), [1, 1], initializer = tf.zeros_initializer())\n",
    "\n",
    "    return parameters\n",
    "\n",
    "'''\n",
    "Function to define forward propagation\n",
    "\n",
    "Input:\n",
    "  - X (Tensor) : Input to the forward propagation \n",
    "  - parameters (dict): Parameters for calculating forward propagation\n",
    "Output:\n",
    "  - Z(Tensor) : Output of the forward propagation\n",
    "'''\n",
    "\n",
    "def forward_propagation(X, parameters):\n",
    "    Z=0\n",
    "    A=X\n",
    "    for i in range(int(len(parameters)/2)):\n",
    "      Z = tf.add(tf.matmul(parameters['W'+str(i)],A),parameters['b'+str(i)])\n",
    "      A = tf.nn.leaky_relu(Z)\n",
    "\n",
    "    return Z\n",
    "\n",
    "'''\n",
    "Function to define cost function\n",
    "\n",
    "Input:\n",
    "  - Z (Tensor): Prediction Values \n",
    "  - Y (Tensor): True Values\n",
    "\n",
    "Output:\n",
    "  - cost (Tensor): Cost Function\n",
    "\n",
    "'''\n",
    "\n",
    "def compute_cost(Z, Y):\n",
    "    \n",
    "    cost = tf.reduce_mean(tf.nn.l2_loss(Z-Y))\n",
    "\n",
    "    return cost\n",
    "'''\n",
    "Function to define model and training\n",
    "\n",
    "Input:\n",
    "  - X_train (numpy array): Training Input\n",
    "  - Y_train (numpy array): Training Output\n",
    "  - X_test (numpy array): Test Input\n",
    "  - Y_test (numpy array): Test Output\n",
    "  - learning_rate (float): Learning Rate for Training\n",
    "  - num_epochs (int): Number of epochs to run\n",
    "  - minibatch_size (int): Minibatch size for Minibatch Training\n",
    "  - print_cost (bool): To print cost function\n",
    "  - hidden_layer (list): Define hidden layer\n",
    "\n",
    "Output: \n",
    "  - params(dict): Dictionary containing trained parameters\n",
    "\n",
    "'''\n",
    "\n",
    "def model(X_train, Y_train, X_test, Y_test, learning_rate = 0.01,early_stopping=True,\n",
    "          num_epochs = 400, minibatch_size = 128, print_cost = True, hidden_layer=[100]):\n",
    " \n",
    "    ops.reset_default_graph()                       \n",
    "    tf.set_random_seed(1)                           \n",
    "    seed = 3                                       \n",
    "    (n_x, m) = X_train.T.shape                       \n",
    "    n_y = Y_train.shape[0]                        \n",
    "    costs = []                                \n",
    "    \n",
    "    X, Y = create_placeholders(n_x, n_y)\n",
    "\n",
    "    parameters = initialize_parameters(n_x,hidden_layer)\n",
    "  \n",
    "    Z = forward_propagation(X, parameters)\n",
    "\n",
    "    cost = compute_cost(Z, Y)\n",
    "    \n",
    "    optimizer = tf.train.AdamOptimizer(learning_rate=learning_rate).minimize(cost)\n",
    "    \n",
    "    init = tf.global_variables_initializer()\n",
    "    \n",
    "    with tf.Session() as sess:\n",
    "\n",
    "        sess.run(init)\n",
    "        if print_cost == True:\n",
    "          print(\"\\n\\nCosts : \")\n",
    "      \n",
    "        for epoch in range(num_epochs):\n",
    "            epoch_cost = 0.                       \n",
    "            num_minibatches = int(m / minibatch_size) \n",
    "            seed = seed + 1\n",
    "            for i in range(num_minibatches):\n",
    "\n",
    "                _ , minibatch_cost = sess.run([optimizer, cost], feed_dict={X: X_train.T[:,i*minibatch_size:(i+1)*minibatch_size], Y: Y_train.T[i*minibatch_size:(i+1)*minibatch_size]})\n",
    "                epoch_cost += minibatch_cost / num_minibatches\n",
    "            if print_cost == True:\n",
    "                print (\"\\tCost after epoch {:<4}: {:<10}\".format(epoch+1, epoch_cost))\n",
    "                pass\n",
    "            if early_stopping:\n",
    "                if(len(costs)>0):\n",
    "                  if(np.abs(epoch_cost-costs[-1])<0.01):\n",
    "                    break\n",
    "            if print_cost == True:\n",
    "                costs.append(epoch_cost)\n",
    "        if print_cost == True:        \n",
    "          plt.plot(np.squeeze(costs))\n",
    "          plt.ylabel('cost')\n",
    "          plt.xlabel('iterations (per tens)')\n",
    "          plt.title(\"Learning rate =\" + str(learning_rate))\n",
    "          plt.show()\n",
    "\n",
    "        parameters = sess.run(parameters)\n",
    "        print(\"\\nParameters have been trained!\\n\")\n",
    "\n",
    "        rmse_loss = tf.sqrt(tf.reduce_mean(tf.nn.l2_loss(Z-Y)))\n",
    "\n",
    "        print(\"\\nTrain RMSE Loss:\", rmse_loss.eval({X: X_train.T, Y: Y_train.T}))\n",
    "        print(\"\\nTest RMSE:\", rmse_loss.eval({X: X_test.T, Y: Y_test.T}))\n",
    "        \n",
    "        return parameters,rmse_loss.eval({X: X_test.T, Y: Y_test.T})"
   ]
  },
  {
   "cell_type": "markdown",
   "metadata": {
    "colab_type": "text",
    "id": "B3yjvePBAuZq"
   },
   "source": [
    "# Test on Different Processors : CPU, GPU TPU\n",
    "\n",
    "We will plot the time required for training _vs_ the batch size used for training.\n",
    " - __Training data size__ = 86348\n",
    " - __Test data size__ = 21587\n",
    " - __Input Shape__ : (\\<batch_size\\>,60)\n",
    " - __Output Shape__ : (1,)\n",
    " - __Hidden Layers Nodes__:\n",
    "  -  Number of nodes in hidden layer : __[128,64,32,16,8]__\n",
    "    - __Layer 0 (Input Layer)__ : Input Size = 60, Output Size = 128\n",
    "    - __Layer 1__ : Input Size = 128, Output Size = 64\n",
    "    - __Layer 2__ : Input Size = 64, Output Size = 32\n",
    "    - __Layer 3__ : Input Size = 32, Output Size = 16\n",
    "    - __Layer 4__ : Input Size = 16, Output Size = 8\n",
    "    - __Layer 5 (Output Layer)__ : Input Size = 8, Output Size = 1\n",
    " - __Number of epochs__ = 50\n",
    " - __Minibatch Size__ = 16 , 32 , 64 , 128 , 256 , 512\n",
    " - __Learning Rate__ = 0.005 "
   ]
  },
  {
   "cell_type": "markdown",
   "metadata": {
    "colab_type": "text",
    "id": "tzgMQVYVCc_a"
   },
   "source": [
    "## CPU"
   ]
  },
  {
   "cell_type": "code",
   "execution_count": 0,
   "metadata": {
    "colab": {
     "base_uri": "https://localhost:8080/",
     "height": 1000
    },
    "colab_type": "code",
    "id": "nWRO6Utqt-Om",
    "outputId": "cef9c075-86e8-43d7-acb4-f38a993b533d"
   },
   "outputs": [
    {
     "name": "stdout",
     "output_type": "stream",
     "text": [
      "\u001b[4mBatch Size : 16\u001b[0m\n",
      "\n",
      "\n",
      "Parameters have been trained!\n",
      "\n",
      "\n",
      "Train RMSE Loss: 839.85956\n",
      "\n",
      "Test RMSE: 481.68274\n",
      "\n",
      "--- 344.85028862953186 seconds ---\n",
      "\n",
      "\n",
      "\u001b[4mBatch Size : 32\u001b[0m\n",
      "\n",
      "\n",
      "Parameters have been trained!\n",
      "\n",
      "\n",
      "Train RMSE Loss: 803.6511\n",
      "\n",
      "Test RMSE: 488.35568\n",
      "\n",
      "--- 182.84617471694946 seconds ---\n",
      "\n",
      "\n",
      "\u001b[4mBatch Size : 64\u001b[0m\n",
      "\n",
      "\n",
      "Parameters have been trained!\n",
      "\n",
      "\n",
      "Train RMSE Loss: 787.49023\n",
      "\n",
      "Test RMSE: 496.47577\n",
      "\n",
      "--- 98.80004930496216 seconds ---\n",
      "\n",
      "\n",
      "\u001b[4mBatch Size : 128\u001b[0m\n",
      "\n",
      "\n",
      "Parameters have been trained!\n",
      "\n",
      "\n",
      "Train RMSE Loss: 810.8661\n",
      "\n",
      "Test RMSE: 514.51624\n",
      "\n",
      "--- 63.9863007068634 seconds ---\n",
      "\n",
      "\n",
      "\u001b[4mBatch Size : 256\u001b[0m\n",
      "\n",
      "\n",
      "Parameters have been trained!\n",
      "\n",
      "\n",
      "Train RMSE Loss: 879.6473\n",
      "\n",
      "Test RMSE: 569.2864\n",
      "\n",
      "--- 41.914024353027344 seconds ---\n",
      "\n",
      "\n"
     ]
    }
   ],
   "source": [
    "'''\n",
    "Testing on CPU\n",
    "  - Batch vs Time\n",
    "  - Batch vs Test RMSE\n",
    "'''\n",
    "times = {'Batch Size':[],'Time(s)':[],'Test RMSE':[]}\n",
    "for i in [16,32,64,128,256]:\n",
    "\n",
    "  print(\"\\033[4mBatch Size : \"+str(i)+\"\\033[0m\",end='\\n\\n')\n",
    "  start_time = time.time()\n",
    "  params,loss = model(train_X,train_Y,test_X,test_Y,learning_rate=0.005,num_epochs=50,hidden_layer=[128,64,32,16,8],minibatch_size=i,print_cost=False)\n",
    "  \n",
    "  times['Batch Size'].append(i)\n",
    "  times['Time(s)'].append(time.time() - start_time)\n",
    "  times['Test RMSE'].append(loss)\n",
    "  print(\"\\n--- %s seconds ---\\n\" % (time.time() - start_time),end='\\n\\n')"
   ]
  },
  {
   "cell_type": "code",
   "execution_count": 0,
   "metadata": {
    "colab": {
     "base_uri": "https://localhost:8080/",
     "height": 573
    },
    "colab_type": "code",
    "id": "M8gjgJ0bK0LT",
    "outputId": "af277648-a3db-4163-cb12-def587809a8c"
   },
   "outputs": [
    {
     "data": {
      "image/png": "[encoded data removed]",
      "text/plain": [
       "<Figure size 432x288 with 1 Axes>"
      ]
     },
     "metadata": {
      "needs_background": "light",
      "tags": []
     },
     "output_type": "display_data"
    },
    {
     "data": {
      "image/png": "[encoded data removed]",
      "text/plain": [
       "<Figure size 432x288 with 1 Axes>"
      ]
     },
     "metadata": {
      "needs_background": "light",
      "tags": []
     },
     "output_type": "display_data"
    }
   ],
   "source": [
    "plt.plot(times['Batch Size'],times['Time(s)'],'bo')\n",
    "plt.xlabel('Batch Size')\n",
    "plt.ylabel('Time(s)')\n",
    "plt.title('Batch Size vs Time(s) for CPU')\n",
    "plt.show()\n",
    "plt.plot(times['Batch Size'],times['Test RMSE'],'bo')\n",
    "plt.xlabel('Batch Size')\n",
    "plt.ylabel('Test RMSE')\n",
    "plt.title('Batch Size vs Test RMSE')\n",
    "plt.show()"
   ]
  },
  {
   "cell_type": "markdown",
   "metadata": {
    "colab_type": "text",
    "id": "qzggkiSBTSon"
   },
   "source": [
    "## GPU"
   ]
  },
  {
   "cell_type": "code",
   "execution_count": 0,
   "metadata": {
    "colab": {
     "base_uri": "https://localhost:8080/",
     "height": 1000
    },
    "colab_type": "code",
    "id": "As4-1a-OTBlE",
    "outputId": "27693cfd-c495-4753-dac3-8db88e0c14ba"
   },
   "outputs": [
    {
     "name": "stdout",
     "output_type": "stream",
     "text": [
      "\u001b[4mBatch Size : 16\u001b[0m\n",
      "\n",
      "\n",
      "Parameters have been trained!\n",
      "\n",
      "\n",
      "Train RMSE Loss: 894.5641\n",
      "\n",
      "Test RMSE: 486.66904\n",
      "\n",
      "--- 473.3741936683655 seconds ---\n",
      "\n",
      "\n",
      "\u001b[4mBatch Size : 32\u001b[0m\n",
      "\n",
      "\n",
      "Parameters have been trained!\n",
      "\n",
      "\n",
      "Train RMSE Loss: 810.31775\n",
      "\n",
      "Test RMSE: 509.47025\n",
      "\n",
      "--- 238.68486309051514 seconds ---\n",
      "\n",
      "\n",
      "\u001b[4mBatch Size : 64\u001b[0m\n",
      "\n",
      "\n",
      "Parameters have been trained!\n",
      "\n",
      "\n",
      "Train RMSE Loss: 796.19824\n",
      "\n",
      "Test RMSE: 504.54724\n",
      "\n",
      "--- 123.11249780654907 seconds ---\n",
      "\n",
      "\n",
      "\u001b[4mBatch Size : 128\u001b[0m\n",
      "\n",
      "\n",
      "Parameters have been trained!\n",
      "\n",
      "\n",
      "Train RMSE Loss: 830.5128\n",
      "\n",
      "Test RMSE: 502.7097\n",
      "\n",
      "--- 59.897011041641235 seconds ---\n",
      "\n",
      "\n",
      "\u001b[4mBatch Size : 256\u001b[0m\n",
      "\n",
      "\n",
      "Parameters have been trained!\n",
      "\n",
      "\n",
      "Train RMSE Loss: 798.5714\n",
      "\n",
      "Test RMSE: 510.52213\n",
      "\n",
      "--- 30.47639036178589 seconds ---\n",
      "\n",
      "\n"
     ]
    }
   ],
   "source": [
    "'''\n",
    "Testing on GPU\n",
    "  - Batch vs Time\n",
    "  - Batch vs Test RMSE\n",
    "'''\n",
    "times = {'Batch Size':[],'Time(s)':[],'Test RMSE':[]}\n",
    "for i in [16,32,64,128,256]:\n",
    "\n",
    "  print(\"\\033[4mBatch Size : \"+str(i)+\"\\033[0m\",end='\\n\\n')\n",
    "  start_time = time.time()\n",
    "  params,loss = model(train_X,train_Y,test_X,test_Y,learning_rate=0.005,num_epochs=50,hidden_layer=[128,64,32,16,8],minibatch_size=i,print_cost=False)\n",
    "  \n",
    "  times['Batch Size'].append(i)\n",
    "  times['Time(s)'].append(time.time() - start_time)\n",
    "  times['Test RMSE'].append(loss)\n",
    "  print(\"\\n--- %s seconds ---\\n\" % (time.time() - start_time),end='\\n\\n')"
   ]
  },
  {
   "cell_type": "code",
   "execution_count": 0,
   "metadata": {
    "colab": {
     "base_uri": "https://localhost:8080/",
     "height": 573
    },
    "colab_type": "code",
    "id": "RV9Pevu5TYYF",
    "outputId": "9a30546b-14d6-4c06-90a1-d539099528ad"
   },
   "outputs": [
    {
     "data": {
      "image/png": "[encoded data removed]",
      "text/plain": [
       "<Figure size 432x288 with 1 Axes>"
      ]
     },
     "metadata": {
      "needs_background": "light",
      "tags": []
     },
     "output_type": "display_data"
    },
    {
     "data": {
      "image/png": "[encoded data removed]",
      "text/plain": [
       "<Figure size 432x288 with 1 Axes>"
      ]
     },
     "metadata": {
      "needs_background": "light",
      "tags": []
     },
     "output_type": "display_data"
    }
   ],
   "source": [
    "plt.plot(times['Batch Size'],times['Time(s)'],'bo')\n",
    "plt.xlabel('Batch Size')\n",
    "plt.ylabel('Time(s)')\n",
    "plt.title('Batch Size vs Time(s) for CPU')\n",
    "plt.show()\n",
    "plt.plot(times['Batch Size'],times['Test RMSE'],'bo')\n",
    "plt.xlabel('Batch Size')\n",
    "plt.ylabel('Test RMSE')\n",
    "plt.title('Batch Size vs Test RMSE')\n",
    "plt.show()"
   ]
  },
  {
   "cell_type": "markdown",
   "metadata": {
    "colab_type": "text",
    "id": "E33pMyvxljef"
   },
   "source": [
    "## TPU"
   ]
  },
  {
   "cell_type": "code",
   "execution_count": 0,
   "metadata": {
    "colab": {
     "base_uri": "https://localhost:8080/",
     "height": 1000
    },
    "colab_type": "code",
    "id": "lvDJpaOVhxMj",
    "outputId": "c227786a-6bdc-413b-b738-cc275a8197fa"
   },
   "outputs": [
    {
     "name": "stdout",
     "output_type": "stream",
     "text": [
      "\u001b[4mBatch Size : 16\u001b[0m\n",
      "\n",
      "\n",
      "Parameters have been trained!\n",
      "\n",
      "\n",
      "Train RMSE Loss: 844.1706\n",
      "\n",
      "Test RMSE: 480.59122\n",
      "\n",
      "--- 344.370313167572 seconds ---\n",
      "\n",
      "\n",
      "\u001b[4mBatch Size : 32\u001b[0m\n",
      "\n",
      "\n",
      "Parameters have been trained!\n",
      "\n",
      "\n",
      "Train RMSE Loss: 830.68494\n",
      "\n",
      "Test RMSE: 505.20303\n",
      "\n",
      "--- 251.9719123840332 seconds ---\n",
      "\n",
      "\n",
      "\u001b[4mBatch Size : 64\u001b[0m\n",
      "\n",
      "\n",
      "Parameters have been trained!\n",
      "\n",
      "\n",
      "Train RMSE Loss: 836.9526\n",
      "\n",
      "Test RMSE: 532.5091\n",
      "\n",
      "--- 161.73477411270142 seconds ---\n",
      "\n",
      "\n",
      "\u001b[4mBatch Size : 128\u001b[0m\n",
      "\n",
      "\n",
      "Parameters have been trained!\n",
      "\n",
      "\n",
      "Train RMSE Loss: 803.20056\n",
      "\n",
      "Test RMSE: 514.6586\n",
      "\n",
      "--- 104.38938570022583 seconds ---\n",
      "\n",
      "\n",
      "\u001b[4mBatch Size : 256\u001b[0m\n",
      "\n",
      "\n",
      "Parameters have been trained!\n",
      "\n",
      "\n",
      "Train RMSE Loss: 831.2887\n",
      "\n",
      "Test RMSE: 532.15814\n",
      "\n",
      "--- 72.38360953330994 seconds ---\n",
      "\n",
      "\n"
     ]
    }
   ],
   "source": [
    "'''\n",
    "Testing on TPU\n",
    "  - Batch vs Time\n",
    "  - Batch vs Test RMSE\n",
    "'''\n",
    "times = {'Batch Size':[],'Time(s)':[],'Test RMSE':[]}\n",
    "for i in [16,32,64,128,256]:\n",
    "\n",
    "  print(\"\\033[4mBatch Size : \"+str(i)+\"\\033[0m\",end='\\n\\n')\n",
    "  start_time = time.time()\n",
    "  params,loss = model(train_X,train_Y,test_X,test_Y,learning_rate=0.005,num_epochs=50,hidden_layer=[128,64,32,16,8],minibatch_size=i,print_cost=False)\n",
    "  \n",
    "  times['Batch Size'].append(i)\n",
    "  times['Time(s)'].append(time.time() - start_time)\n",
    "  times['Test RMSE'].append(loss)\n",
    "  print(\"\\n--- %s seconds ---\\n\" % (time.time() - start_time),end='\\n\\n')"
   ]
  },
  {
   "cell_type": "code",
   "execution_count": 0,
   "metadata": {
    "colab": {
     "base_uri": "https://localhost:8080/",
     "height": 573
    },
    "colab_type": "code",
    "id": "AMPt7sQYlojd",
    "outputId": "4c2a94cf-036b-4490-bc97-04e269d87aeb"
   },
   "outputs": [
    {
     "data": {
      "image/png": "[encoded data removed]",
      "text/plain": [
       "<Figure size 432x288 with 1 Axes>"
      ]
     },
     "metadata": {
      "needs_background": "light",
      "tags": []
     },
     "output_type": "display_data"
    },
    {
     "data": {
      "image/png": "[encoded data removed]",
      "text/plain": [
       "<Figure size 432x288 with 1 Axes>"
      ]
     },
     "metadata": {
      "needs_background": "light",
      "tags": []
     },
     "output_type": "display_data"
    }
   ],
   "source": [
    "plt.plot(times['Batch Size'],times['Time(s)'],'bo')\n",
    "plt.xlabel('Batch Size')\n",
    "plt.ylabel('Time(s)')\n",
    "plt.title('Batch Size vs Time(s) for TPU')\n",
    "plt.show()\n",
    "plt.plot(times['Batch Size'],times['Test RMSE'],'bo')\n",
    "plt.xlabel('Batch Size')\n",
    "plt.ylabel('Test RMSE')\n",
    "plt.title('Batch Size vs Test RMSE')\n",
    "plt.show()"
   ]
  },
  {
   "cell_type": "markdown",
   "metadata": {
    "colab_type": "text",
    "id": "Rxf14Ty5x2bD"
   },
   "source": [
    "# Inferences on Training in CPU, GPU and TPU\n",
    "\n",
    " - The training time with CPU, GPU and TPU is plotted above.\n",
    " - For smaller batch sizes, CPU has better performance, but as batch size increases, GPU becomes the better performer due to increase in speed by vectorization overcoming slowness due to looping epoch execution.\n",
    " - TPU performance is average overall, since it has been designed for handling huge volumes of data."
   ]
  },
  {
   "cell_type": "markdown",
   "metadata": {
    "colab_type": "text",
    "id": "6uzC1O6FwNRW"
   },
   "source": [
    "# Neural Network Variation \n",
    "  - __Training is done using CPU using batch size of 64 for best time-accuracy compensation.__\n",
    "  - __Training data size__ = 86348\n",
    "  - __Test data size__ = 21587\n",
    "  - The number of nodes in the neural network to be tested are :\n",
    "    - [64,32,16,8]\n",
    "      - __Layer 0 (Input Layer)__ : Input Size = 60, Output Size = 64\n",
    "      - __Layer 1__ : Input Size = 64, Output Size = 32\n",
    "      - __Layer 2__ : Input Size = 32, Output Size = 16\n",
    "      - __Layer 3__ : Input Size = 16, Output Size = 8\n",
    "      - __Layer 4 (Output Layer)__ : Input Size = 8, Output Size = 1\n",
    "    - [64,128,256,128,64,32,16,8]\n",
    "      - __Layer 0 (Input Layer)__ : Input Size = 60, Output Size = 64\n",
    "      - __Layer 1__ : Input Size = 64, Output Size = 128\n",
    "      - __Layer 2__ : Input Size = 128, Output Size = 256\n",
    "      - __Layer 3__ : Input Size = 256, Output Size = 128\n",
    "      - __Layer 4__ : Input Size = 128, Output Size = 64\n",
    "      - __Layer 5__ : Input Size = 64, Output Size = 32\n",
    "      - __Layer 6__ : Input Size = 32, Output Size = 16\n",
    "      - __Layer 7__ : Input Size = 16, Output Size = 8\n",
    "      - __Layer 8 (Output Layer)__ : Input Size = 8, Output Size = 1\n",
    "    - [64,128,64,32,16,8]\n",
    "      - __Layer 0 (Input Layer)__ : Input Size = 60, Output Size = 64\n",
    "      - __Layer 1__ : Input Size = 64, Output Size = 128\n",
    "      - __Layer 2__ : Input Size = 64, Output Size = 32\n",
    "      - __Layer 3__ : Input Size = 32, Output Size = 16\n",
    "      - __Layer 4__ : Input Size = 16, Output Size = 8\n",
    "      - __Layer 5 (Output Layer)__ : Input Size = 8, Output Size = 1\n",
    "    - [32,8,1]\n",
    "      - __Layer 0 (Input Layer)__ : Input Size = 60, Output Size = 32\n",
    "      - __Layer 1__ : Input Size = 32, Output Size = 8\n",
    "      - __Layer 2 (Output Layer)__ : Input Size = 8, Output Size = 1"
   ]
  },
  {
   "cell_type": "markdown",
   "metadata": {
    "colab_type": "text",
    "id": "Npm--Ghi2Hcm"
   },
   "source": [
    "## [64,32,16,8]"
   ]
  },
  {
   "cell_type": "code",
   "execution_count": 0,
   "metadata": {
    "colab": {
     "base_uri": "https://localhost:8080/",
     "height": 1000
    },
    "colab_type": "code",
    "id": "iOxrJUE1qeWw",
    "outputId": "02e67383-7311-40cf-934e-7ac00f9394a7"
   },
   "outputs": [
    {
     "name": "stdout",
     "output_type": "stream",
     "text": [
      "\n",
      "\n",
      "Costs : \n",
      "\tCost after epoch 1   : 2534.2427213879528\n",
      "\tCost after epoch 2   : 1898.410216063549\n",
      "\tCost after epoch 3   : 1734.249646299233\n",
      "\tCost after epoch 4   : 1783.0348393558297\n",
      "\tCost after epoch 5   : 1589.3297282700387\n",
      "\tCost after epoch 6   : 1431.3886882535965\n",
      "\tCost after epoch 7   : 1105.440564516829\n",
      "\tCost after epoch 8   : 1003.1850518749065\n",
      "\tCost after epoch 9   : 969.3202115250489\n",
      "\tCost after epoch 10  : 958.1159980836143\n",
      "\tCost after epoch 11  : 941.697524379676\n",
      "\tCost after epoch 12  : 920.3478385976192\n",
      "\tCost after epoch 13  : 910.1438035222668\n",
      "\tCost after epoch 14  : 889.3224171383274\n",
      "\tCost after epoch 15  : 904.617309683423\n",
      "\tCost after epoch 16  : 928.5037292978175\n",
      "\tCost after epoch 17  : 863.4479958185714\n",
      "\tCost after epoch 18  : 850.0046958951631\n",
      "\tCost after epoch 19  : 847.7127704097217\n",
      "\tCost after epoch 20  : 828.7899588435733\n",
      "\tCost after epoch 21  : 808.2264265169285\n",
      "\tCost after epoch 22  : 799.2526147162315\n",
      "\tCost after epoch 23  : 760.0907426385908\n",
      "\tCost after epoch 24  : 782.5076520734581\n",
      "\tCost after epoch 25  : 798.8786770853853\n",
      "\tCost after epoch 26  : 701.9636122899375\n",
      "\tCost after epoch 27  : 677.883591851984\n",
      "\tCost after epoch 28  : 681.1522396644734\n",
      "\tCost after epoch 29  : 700.5997679012618\n",
      "\tCost after epoch 30  : 660.0142133980004\n",
      "\tCost after epoch 31  : 651.8580893480495\n",
      "\tCost after epoch 32  : 634.523092644581\n",
      "\tCost after epoch 33  : 598.2389504762838\n",
      "\tCost after epoch 34  : 581.8449801705873\n",
      "\tCost after epoch 35  : 571.2269418997797\n",
      "\tCost after epoch 36  : 569.875760281324\n",
      "\tCost after epoch 37  : 567.7704673184559\n",
      "\tCost after epoch 38  : 566.7421825909454\n",
      "\tCost after epoch 39  : 528.9122265588801\n",
      "\tCost after epoch 40  : 525.4233914284107\n",
      "\tCost after epoch 41  : 530.1741076526681\n",
      "\tCost after epoch 42  : 511.9394917922881\n",
      "\tCost after epoch 43  : 522.1388631641113\n",
      "\tCost after epoch 44  : 521.906532796601\n",
      "\tCost after epoch 45  : 527.1592372501219\n",
      "\tCost after epoch 46  : 514.7280784476857\n",
      "\tCost after epoch 47  : 484.932547154296\n",
      "\tCost after epoch 48  : 488.89877603246583\n",
      "\tCost after epoch 49  : 483.18077556251\n",
      "\tCost after epoch 50  : 491.3422078160198\n"
     ]
    },
    {
     "data": {
      "image/png": "[encoded data removed]",
      "text/plain": [
       "<Figure size 432x288 with 1 Axes>"
      ]
     },
     "metadata": {
      "needs_background": "light",
      "tags": []
     },
     "output_type": "display_data"
    },
    {
     "name": "stdout",
     "output_type": "stream",
     "text": [
      "\n",
      "Parameters have been trained!\n",
      "\n",
      "\n",
      "Train RMSE Loss: 783.5865\n",
      "\n",
      "Test RMSE: 483.59985\n",
      "\n",
      "Average epoch time : 0.8176876020431518\n"
     ]
    }
   ],
   "source": [
    "start_time = time.time()\n",
    "params,loss = model(train_X,train_Y,test_X,test_Y,learning_rate=0.005,num_epochs=50,hidden_layer=[64,32,16,8],minibatch_size=64,print_cost=True)\n",
    "print(\"\\nAverage epoch time : \"+str((time.time() - start_time)/100))"
   ]
  },
  {
   "cell_type": "markdown",
   "metadata": {
    "colab_type": "text",
    "id": "2OX653Qb5Ad6"
   },
   "source": [
    "## [64,128,256,128,64,32,16,8]"
   ]
  },
  {
   "cell_type": "code",
   "execution_count": 0,
   "metadata": {
    "colab": {
     "base_uri": "https://localhost:8080/",
     "height": 1000
    },
    "colab_type": "code",
    "id": "l21-3UWk4FNP",
    "outputId": "2ad7b926-3cd2-40e3-c173-1fa45b18a7ed"
   },
   "outputs": [
    {
     "name": "stdout",
     "output_type": "stream",
     "text": [
      "\n",
      "\n",
      "Costs : \n",
      "\tCost after epoch 1   : 2614.397609837947\n",
      "\tCost after epoch 2   : 2095.217249367657\n",
      "\tCost after epoch 3   : 1943.4947700246007\n",
      "\tCost after epoch 4   : 1890.3504230790554\n",
      "\tCost after epoch 5   : 1886.5521162865869\n",
      "\tCost after epoch 6   : 1825.6112448068077\n",
      "\tCost after epoch 7   : 12169.315177606415\n",
      "\tCost after epoch 8   : 3420.9045238226195\n",
      "\tCost after epoch 9   : 3122.8428292242643\n",
      "\tCost after epoch 10  : 2515.6464491745896\n",
      "\tCost after epoch 11  : 1967.688207763489\n",
      "\tCost after epoch 12  : 1927.8614783375397\n",
      "\tCost after epoch 13  : 1655.9712857641598\n",
      "\tCost after epoch 14  : 36741.29501632338\n",
      "\tCost after epoch 15  : 99174.40876538143\n",
      "\tCost after epoch 16  : 4385.89791248002\n",
      "\tCost after epoch 17  : 4346.270085814804\n",
      "\tCost after epoch 18  : 4916.577510123967\n",
      "\tCost after epoch 19  : 3089.321320009903\n",
      "\tCost after epoch 20  : 3020.226618060543\n",
      "\tCost after epoch 21  : 444704.4490775865\n",
      "\tCost after epoch 22  : 4207.756170523093\n",
      "\tCost after epoch 23  : 2468.1361602036686\n",
      "\tCost after epoch 24  : 1915.979276732041\n",
      "\tCost after epoch 25  : 1831.5842504593252\n",
      "\tCost after epoch 26  : 1795.270375335898\n",
      "\tCost after epoch 27  : 1723.2415060689461\n",
      "\tCost after epoch 28  : 1675.582127576054\n",
      "\tCost after epoch 29  : 1711.7056754913208\n",
      "\tCost after epoch 30  : 1684.3610708634026\n",
      "\tCost after epoch 31  : 3882.6165760625545\n",
      "\tCost after epoch 32  : 1824.5580782766556\n",
      "\tCost after epoch 33  : 1665.1053227452196\n",
      "\tCost after epoch 34  : 1614.6870891325036\n",
      "\tCost after epoch 35  : 1790.6446947644938\n",
      "\tCost after epoch 36  : 1648.401541311884\n",
      "\tCost after epoch 37  : 243079.3595852297\n",
      "\tCost after epoch 38  : 233936.06216134285\n",
      "\tCost after epoch 39  : 5126.112321428059\n",
      "\tCost after epoch 40  : 2746.2828122783003\n",
      "\tCost after epoch 41  : 2706.962424785141\n",
      "\tCost after epoch 42  : 5379.325067993796\n",
      "\tCost after epoch 43  : 3838.3486047607603\n",
      "\tCost after epoch 44  : 1947.490048419113\n",
      "\tCost after epoch 45  : 1534.1524563189173\n",
      "\tCost after epoch 46  : 1372.489570725133\n",
      "\tCost after epoch 47  : 1302.0827350545749\n",
      "\tCost after epoch 48  : 1218.2987719536534\n",
      "\tCost after epoch 49  : 1296.1255752868879\n",
      "\tCost after epoch 50  : 1229.915612132396\n"
     ]
    },
    {
     "data": {
      "image/png": "[encoded data removed]",
      "text/plain": [
       "<Figure size 432x288 with 1 Axes>"
      ]
     },
     "metadata": {
      "needs_background": "light",
      "tags": []
     },
     "output_type": "display_data"
    },
    {
     "name": "stdout",
     "output_type": "stream",
     "text": [
      "\n",
      "Parameters have been trained!\n",
      "\n",
      "\n",
      "Train RMSE Loss: 1252.584\n",
      "\n",
      "Test RMSE: 628.48413\n",
      "\n",
      "Average epoch time : 1.8521811413764953\n"
     ]
    }
   ],
   "source": [
    "start_time = time.time()\n",
    "params,loss = model(train_X,train_Y,test_X,test_Y,learning_rate=0.005,num_epochs=50,hidden_layer=[64,128,256,128,64,32,16,8],minibatch_size=64,print_cost=True)\n",
    "print(\"\\nAverage epoch time : \"+str((time.time() - start_time)/100))"
   ]
  },
  {
   "cell_type": "markdown",
   "metadata": {
    "colab_type": "text",
    "id": "kGklboXH-HyV"
   },
   "source": [
    "## [64,128,64,32,16,8]"
   ]
  },
  {
   "cell_type": "code",
   "execution_count": 0,
   "metadata": {
    "colab": {
     "base_uri": "https://localhost:8080/",
     "height": 1000
    },
    "colab_type": "code",
    "id": "37HQt-Cx5ykP",
    "outputId": "ffaa4b63-dc6d-46c2-86d7-f1a85d034a8c"
   },
   "outputs": [
    {
     "name": "stdout",
     "output_type": "stream",
     "text": [
      "\n",
      "\n",
      "Costs : \n",
      "\tCost after epoch 1   : 2613.6746127593055\n",
      "\tCost after epoch 2   : 1985.6122624515326\n",
      "\tCost after epoch 3   : 1825.0389354301437\n",
      "\tCost after epoch 4   : 1731.8085535048006\n",
      "\tCost after epoch 5   : 1893.287551619728\n",
      "\tCost after epoch 6   : 1243.5398945507966\n",
      "\tCost after epoch 7   : 1048.1208520525915\n",
      "\tCost after epoch 8   : 1002.2752603314549\n",
      "\tCost after epoch 9   : 969.7870401392345\n",
      "\tCost after epoch 10  : 952.292706647213\n",
      "\tCost after epoch 11  : 987.9874296534755\n",
      "\tCost after epoch 12  : 937.6227622629539\n",
      "\tCost after epoch 13  : 916.7373792508331\n",
      "\tCost after epoch 14  : 905.5383910454135\n",
      "\tCost after epoch 15  : 1007.0930626532003\n",
      "\tCost after epoch 16  : 906.2757521191726\n",
      "\tCost after epoch 17  : 874.785098144441\n",
      "\tCost after epoch 18  : 860.2909345464225\n",
      "\tCost after epoch 19  : 849.8048075795441\n",
      "\tCost after epoch 20  : 965.2554232156937\n",
      "\tCost after epoch 21  : 799.256966785292\n",
      "\tCost after epoch 22  : 753.8832758740215\n",
      "\tCost after epoch 23  : 720.2093226246885\n",
      "\tCost after epoch 24  : 716.3033279068295\n",
      "\tCost after epoch 25  : 674.1529667700918\n",
      "\tCost after epoch 26  : 648.0883108129138\n",
      "\tCost after epoch 27  : 645.1121229506848\n",
      "\tCost after epoch 28  : 624.2060895033296\n",
      "\tCost after epoch 29  : 870.872152295971\n",
      "\tCost after epoch 30  : 614.2003004386564\n",
      "\tCost after epoch 31  : 581.0012400791858\n",
      "\tCost after epoch 32  : 590.2914745537238\n",
      "\tCost after epoch 33  : 584.1387044625254\n",
      "\tCost after epoch 34  : 755.5225433507965\n",
      "\tCost after epoch 35  : 587.4457010505287\n",
      "\tCost after epoch 36  : 564.2053602372737\n",
      "\tCost after epoch 37  : 562.8369692158402\n",
      "\tCost after epoch 38  : 547.9505915320126\n",
      "\tCost after epoch 39  : 535.2176234681486\n",
      "\tCost after epoch 40  : 561.0636908076619\n",
      "\tCost after epoch 41  : 535.3413725754699\n",
      "\tCost after epoch 42  : 521.2035189176863\n",
      "\tCost after epoch 43  : 544.2110907891846\n",
      "\tCost after epoch 44  : 515.1953219222166\n",
      "\tCost after epoch 45  : 527.2302819797075\n",
      "\tCost after epoch 46  : 524.2199318209263\n",
      "\tCost after epoch 47  : 530.9696310960952\n",
      "\tCost after epoch 48  : 509.1802422401197\n",
      "\tCost after epoch 49  : 492.1116427852101\n",
      "\tCost after epoch 50  : 508.78798203860646\n"
     ]
    },
    {
     "data": {
      "image/png": "[encoded data removed]",
      "text/plain": [
       "<Figure size 432x288 with 1 Axes>"
      ]
     },
     "metadata": {
      "needs_background": "light",
      "tags": []
     },
     "output_type": "display_data"
    },
    {
     "name": "stdout",
     "output_type": "stream",
     "text": [
      "\n",
      "Parameters have been trained!\n",
      "\n",
      "\n",
      "Train RMSE Loss: 803.0226\n",
      "\n",
      "Test RMSE: 492.48026\n",
      "\n",
      "Average epoch time : 1.1637224793434142\n"
     ]
    }
   ],
   "source": [
    "start_time = time.time()\n",
    "params,loss = model(train_X,train_Y,test_X,test_Y,learning_rate=0.005,num_epochs=50,hidden_layer=[64,128,64,32,16,8,1],minibatch_size=64,print_cost=True)\n",
    "print(\"\\nAverage epoch time : \"+str((time.time() - start_time)/100))"
   ]
  },
  {
   "cell_type": "markdown",
   "metadata": {
    "colab_type": "text",
    "id": "0eJop-gf9NtA"
   },
   "source": [
    "## [32,8,1]"
   ]
  },
  {
   "cell_type": "code",
   "execution_count": 0,
   "metadata": {
    "colab": {
     "base_uri": "https://localhost:8080/",
     "height": 1000
    },
    "colab_type": "code",
    "id": "HkxMCOsX7ojY",
    "outputId": "c672792f-3cca-4b02-f2a6-bebe33ce6672"
   },
   "outputs": [
    {
     "name": "stdout",
     "output_type": "stream",
     "text": [
      "\n",
      "\n",
      "Costs : \n",
      "\tCost after epoch 1   : 2711.720349854062\n",
      "\tCost after epoch 2   : 2329.390302721706\n",
      "\tCost after epoch 3   : 2052.0530736200703\n",
      "\tCost after epoch 4   : 1810.1424687910817\n",
      "\tCost after epoch 5   : 1780.602281144852\n",
      "\tCost after epoch 6   : 1763.1256286530602\n",
      "\tCost after epoch 7   : 1743.8431440145562\n",
      "\tCost after epoch 8   : 1715.145299369975\n",
      "\tCost after epoch 9   : 1657.300798669227\n",
      "\tCost after epoch 10  : 1554.3526056853823\n",
      "\tCost after epoch 11  : 1442.910056937793\n",
      "\tCost after epoch 12  : 1351.991475596615\n",
      "\tCost after epoch 13  : 1289.575974743661\n",
      "\tCost after epoch 14  : 1297.3721593315279\n",
      "\tCost after epoch 15  : 1264.4804258579863\n",
      "\tCost after epoch 16  : 1230.777596894329\n",
      "\tCost after epoch 17  : 1214.8383886338697\n",
      "\tCost after epoch 18  : 1187.1089661458932\n",
      "\tCost after epoch 19  : 1172.2218195842422\n",
      "\tCost after epoch 20  : 1194.337823391313\n",
      "\tCost after epoch 21  : 1153.8822685677173\n",
      "\tCost after epoch 22  : 1113.6378715407689\n",
      "\tCost after epoch 23  : 1140.4019893705627\n",
      "\tCost after epoch 24  : 1085.3567830305603\n",
      "\tCost after epoch 25  : 1085.8496596419086\n",
      "\tCost after epoch 26  : 1066.5805463628287\n",
      "\tCost after epoch 27  : 1094.176239217273\n",
      "\tCost after epoch 28  : 1040.1433930054166\n",
      "\tCost after epoch 29  : 1030.1974814876608\n",
      "\tCost after epoch 30  : 1013.6500590941564\n",
      "\tCost after epoch 31  : 1008.682520431621\n",
      "\tCost after epoch 32  : 994.6491408181943\n",
      "\tCost after epoch 33  : 978.1791719135496\n",
      "\tCost after epoch 34  : 977.2710331944377\n",
      "\tCost after epoch 35  : 957.731513903529\n",
      "\tCost after epoch 36  : 948.4127741446747\n",
      "\tCost after epoch 37  : 940.9763943479181\n",
      "\tCost after epoch 38  : 935.0013521617208\n",
      "\tCost after epoch 39  : 927.4433170146114\n",
      "\tCost after epoch 40  : 993.7466209417291\n",
      "\tCost after epoch 41  : 926.6619320156138\n",
      "\tCost after epoch 42  : 1040.062080162733\n",
      "\tCost after epoch 43  : 943.9344462514192\n",
      "\tCost after epoch 44  : 930.9987150719656\n",
      "\tCost after epoch 45  : 896.3513491597324\n",
      "\tCost after epoch 46  : 894.6683520182041\n",
      "\tCost after epoch 47  : 923.366357530463\n",
      "\tCost after epoch 48  : 901.1533354807992\n",
      "\tCost after epoch 49  : 952.8626347931345\n",
      "\tCost after epoch 50  : 918.9074630115189\n"
     ]
    },
    {
     "data": {
      "image/png": "[encoded data removed]",
      "text/plain": [
       "<Figure size 432x288 with 1 Axes>"
      ]
     },
     "metadata": {
      "needs_background": "light",
      "tags": []
     },
     "output_type": "display_data"
    },
    {
     "name": "stdout",
     "output_type": "stream",
     "text": [
      "\n",
      "Parameters have been trained!\n",
      "\n",
      "\n",
      "Train RMSE Loss: 1107.1338\n",
      "\n",
      "Test RMSE: 574.79034\n",
      "\n",
      "Average epoch time : 0.6738513231277465\n"
     ]
    }
   ],
   "source": [
    "start_time = time.time()\n",
    "params,loss = model(train_X,train_Y,test_X,test_Y,learning_rate=0.005,num_epochs=50,hidden_layer=[32,8,1],minibatch_size=64,print_cost=True)\n",
    "print(\"\\nAverage epoch time : \"+str((time.time() - start_time)/100))"
   ]
  },
  {
   "cell_type": "markdown",
   "metadata": {
    "colab_type": "text",
    "id": "s6aWGd_x-W3h"
   },
   "source": [
    "| Hidden Layers               | Time Per Epoch(s)  | Test RMSE |\n",
    "|-----------------------------|--------------------|-----------|\n",
    "| [64,32,16,8]                | 0.8176876020431518 | 483.59985 |\n",
    "| [64,128,256,128,64,32,16,8] | 1.8521811413764953 | 628.48413 |\n",
    "| [64,128,64,32,16,8]         | 1.1637224793434142 | 492.48026 |\n",
    "| [32,8,1]                    | 0.6738513231277465 | 574.79034 |"
   ]
  },
  {
   "cell_type": "markdown",
   "metadata": {
    "colab_type": "text",
    "id": "6KQRhUar-cgm"
   },
   "source": [
    "### From the table, we can infer the following results : \n",
    "- Time per epoch increases as the number of nodes in the neural network increases. This is simply because the number of computations per epoch increases with increase in the neural network size.\n",
    "- The relation between accuracy with neural network size is somewhat hard to explain, but as a general rule, too small a network or too large a network will have poor accuracy due to bias and variance problem respectively. So finding the best possible size for the neural network involves slowly changing the network size and checking the accuracy of the network using a small subset of the data, and tuning the model hyperparameters along with it."
   ]
  }
 ],
 "metadata": {
  "accelerator": "GPU",
  "colab": {
   "collapsed_sections": [
    "HPkVlWkdviyq",
    "tzgMQVYVCc_a",
    "qzggkiSBTSon",
    "E33pMyvxljef",
    "Npm--Ghi2Hcm",
    "2OX653Qb5Ad6",
    "kGklboXH-HyV"
   ],
   "machine_shape": "hm",
   "name": "CS6847 Assignment 4.ipynb",
   "provenance": [],
   "toc_visible": true
  },
  "kernelspec": {
   "display_name": "Python 3",
   "language": "python",
   "name": "python3"
  },
  "language_info": {
   "codemirror_mode": {
    "name": "ipython",
    "version": 3
   },
   "file_extension": ".py",
   "mimetype": "text/x-python",
   "name": "python",
   "nbconvert_exporter": "python",
   "pygments_lexer": "ipython3",
   "version": "3.6.9"
  }
 },
 "nbformat": 4,
 "nbformat_minor": 1
}
